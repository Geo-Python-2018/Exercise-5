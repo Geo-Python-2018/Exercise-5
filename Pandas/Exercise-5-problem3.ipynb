{
 "cells": [
  {
   "cell_type": "markdown",
   "metadata": {
    "deletable": false,
    "editable": false,
    "nbgrader": {
     "checksum": "55c83bc6aaf01a61efc9a6c8fe937eb4",
     "grade": false,
     "grade_id": "Intro_text",
     "locked": true,
     "schema_version": 1,
     "solution": false
    }
   },
   "source": [
    "## Problem 3 - Data analysis (5 points)\n",
    "\n",
    "In this problem the aim is to understand the differences between temperatures in Helsinki Kumpula and Rovaniemi. First, you need to import the csv files generated in the previous problem for `kumpula` and `rovaniemi`."
   ]
  },
  {
   "cell_type": "code",
   "execution_count": null,
   "metadata": {
    "collapsed": false,
    "deletable": false,
    "editable": true,
    "nbgrader": {
     "checksum": "988845921e1467790d136a8aafbdcfb1",
     "grade": false,
     "grade_id": "read_data",
     "locked": false,
     "schema_version": 1,
     "solution": true
    }
   },
   "outputs": [],
   "source": [
    "# YOUR CODE HERE\n",
    "raise NotImplementedError()"
   ]
  },
  {
   "cell_type": "markdown",
   "metadata": {
    "deletable": true,
    "editable": true
   },
   "source": [
    "**What was the median temperature during the observed period in:**\n",
    "  - Helsinki Kumpula? (store the answer in a variable `kumpula_median`\n",
    "  - Rovaniemi? (store the answer in a variable `rovaniemi_median`"
   ]
  },
  {
   "cell_type": "code",
   "execution_count": null,
   "metadata": {
    "collapsed": false,
    "deletable": false,
    "editable": true,
    "nbgrader": {
     "checksum": "4896182198885bf395f41c5df2da6938",
     "grade": false,
     "grade_id": "median",
     "locked": false,
     "schema_version": 1,
     "solution": true
    }
   },
   "outputs": [],
   "source": [
    "\n",
    "# YOUR CODE HERE\n",
    "raise NotImplementedError()\n"
   ]
  },
  {
   "cell_type": "code",
   "execution_count": null,
   "metadata": {
    "collapsed": false,
    "deletable": false,
    "editable": false,
    "nbgrader": {
     "checksum": "6785b4e357cc61649586e20528792448",
     "grade": true,
     "grade_id": "median_test",
     "locked": true,
     "points": 1,
     "schema_version": 1,
     "solution": false
    }
   },
   "outputs": [],
   "source": [
    "#Print the answer:\n",
    "print(\"Kumpula median: \", kumpula_median)\n",
    "print(\"Rovaniemi median: \", rovaniemi_median)\n"
   ]
  },
  {
   "cell_type": "markdown",
   "metadata": {
    "deletable": true,
    "editable": true
   },
   "source": [
    "The median temperatures above consider data from quite long period of time (May-Aug), hence the differences might not be so clear.\n",
    "**Let's find out what were the mean temperatures in May and June in Kumpula and Rovaniemi:**\n",
    "\n",
    "- Select from `rovaniemi` and `kumpula` DataFrames such rows where values of the ``YR--MODAHRMN`` column are from May 2017\n",
    "and assign them into variables `rovaniemi_may` and `kumpula_may` (see hints for help)\n",
    "- Repeat the procedure for the month of June and assign those values into variables `rovaniemi_june` and `kumpula_june`\n",
    "\n",
    "\n"
   ]
  },
  {
   "cell_type": "code",
   "execution_count": null,
   "metadata": {
    "collapsed": false,
    "deletable": false,
    "editable": true,
    "nbgrader": {
     "checksum": "36acf0aa4798a9da64b35ab595a66aad",
     "grade": false,
     "grade_id": "may",
     "locked": false,
     "schema_version": 1,
     "solution": true
    }
   },
   "outputs": [],
   "source": [
    "#Part 2\n",
    "#Take subset of the Kumpula and Rovaniemi data with the 5th and 6th month\n",
    "\n",
    "# YOUR CODE HERE\n",
    "raise NotImplementedError()"
   ]
  },
  {
   "cell_type": "code",
   "execution_count": null,
   "metadata": {
    "collapsed": true,
    "deletable": false,
    "editable": false,
    "nbgrader": {
     "checksum": "2ad4e657b244790478bef78dfea00460",
     "grade": true,
     "grade_id": "May_and_June_test",
     "locked": true,
     "points": 2,
     "schema_version": 1,
     "solution": false
    }
   },
   "outputs": [],
   "source": []
  },
  {
   "cell_type": "markdown",
   "metadata": {
    "deletable": true,
    "editable": true
   },
   "source": [
    "**Print the mean, min and max temperatures for both places in May and June** using the new subset dataframes (`rovaniemi_may`,`kumpula_may`,`rovaniemi_june` and `kumpula_june`)."
   ]
  },
  {
   "cell_type": "code",
   "execution_count": null,
   "metadata": {
    "collapsed": false,
    "deletable": false,
    "editable": true,
    "nbgrader": {
     "checksum": "6baf90fd0b9b0f0638cc1da4d3ee59b3",
     "grade": true,
     "grade_id": "May_and_June_stats",
     "locked": false,
     "points": 1,
     "schema_version": 1,
     "solution": true
    }
   },
   "outputs": [],
   "source": [
    "# YOUR CODE HERE\n",
    "raise NotImplementedError()"
   ]
  },
  {
   "cell_type": "markdown",
   "metadata": {
    "deletable": false,
    "editable": false,
    "nbgrader": {
     "checksum": "264818ca8a5c85b639d76c93692fd265",
     "grade": false,
     "grade_id": "comments",
     "locked": true,
     "schema_version": 1,
     "solution": false
    }
   },
   "source": [
    "In the spirit of [knowledge discovery](http://researcher.ibm.com/researcher/view_group.php?id=144), let's briefly interpret the results of this data analysis. Justify your answers to the following questions based on the data analysis results from this exercise (edit this markdown cell to add your answers):\n",
    "\n",
    "- Does there seem to be large difference in temperatures between the months?\n",
    "- Is Rovaniemi much colder place than Kumpula?\n",
    "\n",
    "Finally:\n",
    "- Check that you have commented your code\n",
    "- Check that you have used the suggested names for variables in this exercise (important for grading!)\n",
    "- Commit and push your changes to github"
   ]
  },
  {
   "cell_type": "markdown",
   "metadata": {
    "deletable": false,
    "editable": true,
    "nbgrader": {
     "checksum": "4769d25d38b35094a0ccb5445d47980a",
     "grade": true,
     "grade_id": "comments_test",
     "locked": false,
     "points": 1,
     "schema_version": 1,
     "solution": true
    }
   },
   "source": [
    "YOUR ANSWER HERE"
   ]
  },
  {
   "cell_type": "markdown",
   "metadata": {
    "collapsed": true,
    "deletable": false,
    "editable": false,
    "nbgrader": {
     "checksum": "2f9dd700920383e132a735db7df9f39d",
     "grade": false,
     "grade_id": "text",
     "locked": true,
     "schema_version": 1,
     "solution": false
    }
   },
   "source": [
    "If you want more challenge, you can continue to the OPTIONAL [Problem 4: Data aggregation](Exercise-5-problem4.ipynb)"
   ]
  }
 ],
 "metadata": {
  "anaconda-cloud": {},
  "kernelspec": {
   "display_name": "Python [default]",
   "language": "python",
   "name": "python3"
  },
  "language_info": {
   "codemirror_mode": {
    "name": "ipython",
    "version": 3
   },
   "file_extension": ".py",
   "mimetype": "text/x-python",
   "name": "python",
   "nbconvert_exporter": "python",
   "pygments_lexer": "ipython3",
   "version": "3.5.2"
  }
 },
 "nbformat": 4,
 "nbformat_minor": 2
}
