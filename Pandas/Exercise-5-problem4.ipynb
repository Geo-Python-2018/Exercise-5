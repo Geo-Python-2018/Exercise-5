{
 "cells": [
  {
   "cell_type": "markdown",
   "metadata": {},
   "source": [
    "## Problem 4 (optional) - Parse daily temperatures\n",
    "\n",
    "**This is an optional task for more advanced students who want more practice**\n",
    "\n",
    "In this problem the aim is to aggregate the hourly temperature data for Helsinki Kumpula and Rovaniemi weather stations to a daily level. Currently, there are 3 measurements per hour in the data. This problem is more challenging as we provide only minimal instructions for completing the given tasks.\n",
    "\n",
    "Desired output: \n",
    "\n",
    "  - a new DataFrame where you have calculated mean, max and min temperatures for each day separately using the\n",
    "  hourly values from Rovaniemi and Helsinki Kumpula.\n",
    "  - remember to comment your code\n",
    "  - submit your solution to Github\n",
    "\n",
    "\n",
    "Find help from [Pandas Official documentation](https://pandas.pydata.org/pandas-docs/stable/) and Google. If you think you can handle this but don't know how to proceed, ask in Slack for tips.\n"
   ]
  }
 ],
 "metadata": {
  "anaconda-cloud": {},
  "kernelspec": {
   "display_name": "Python [default]",
   "language": "python",
   "name": "python3"
  },
  "language_info": {
   "codemirror_mode": {
    "name": "ipython",
    "version": 3
   },
   "file_extension": ".py",
   "mimetype": "text/x-python",
   "name": "python",
   "nbconvert_exporter": "python",
   "pygments_lexer": "ipython3",
   "version": "3.5.2"
  }
 },
 "nbformat": 4,
 "nbformat_minor": 2
}
