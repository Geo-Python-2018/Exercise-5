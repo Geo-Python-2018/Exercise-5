{
 "cells": [
  {
   "cell_type": "markdown",
   "metadata": {
    "deletable": false,
    "editable": false,
    "nbgrader": {
     "checksum": "b48377b21ef5780aa89a3d0b50acb1cd",
     "grade": false,
     "grade_id": "cell-1e760a9173223eac",
     "locked": true,
     "schema_version": 1,
     "solution": false
    }
   },
   "source": [
    "## Problem 1 - Basic statistics of the data (5 points)\n",
    "\n",
    "In this problem your task is to open and explore the NOAA weather data using NumPy.\n",
    "The data file name is [6153237444115dat.csv](../6153237444115dat.csv) located in the Exercise-5 directory.\n",
    "Please answer the given tasks and write your code into the codeblocks below.\n",
    "\n",
    "- **Import the NumPy module** (0.5 points)\n",
    "- **Read the data** using NumPy into a variable called **`data`** (1 point)\n",
    "    - Note: We only want the `USAF`, `YR--MODAHRMN`, `TEMP`, `MAX`, and `MIN` columns from the data file\n",
    "- **Split the data** into separate variables called `station`, `date`, `temp`, `temp_max`, and `temp_min` (1 point)"
   ]
  },
  {
   "cell_type": "code",
   "execution_count": null,
   "metadata": {
    "deletable": false,
    "nbgrader": {
     "checksum": "b69be2860e674737d8e399e459a6732a",
     "grade": false,
     "grade_id": "read_csv",
     "locked": false,
     "schema_version": 1,
     "solution": true
    }
   },
   "outputs": [],
   "source": [
    "# YOUR CODE HERE\n",
    "raise NotImplementedError()"
   ]
  },
  {
   "cell_type": "markdown",
   "metadata": {},
   "source": [
    "In the codeblock below, print answers to these questions:\n",
    "\n",
    "- What are the dimensions of the data?\n",
    "- What is the datatype of the data?"
   ]
  },
  {
   "cell_type": "code",
   "execution_count": null,
   "metadata": {
    "collapsed": true,
    "deletable": false,
    "editable": false,
    "nbgrader": {
     "checksum": "792770a033f8c35bd0a7a7ee306bb50d",
     "grade": true,
     "grade_id": "read_csv_test",
     "locked": true,
     "points": 2.5,
     "schema_version": 1,
     "solution": false
    }
   },
   "outputs": [],
   "source": [
    "# Print the dimensions of the data:\n",
    "\n",
    "# Print the datatype of the data:\n",
    "\n",
    "\n"
   ]
  },
  {
   "cell_type": "markdown",
   "metadata": {},
   "source": [
    "**Explore basic statistics in the data** (1.5 points)\n",
    "\n",
    "- What is the mean Fahrenheit temperature in the data? (the `temp` variable)\n",
    "- What is the standard deviation of the Maximum temperature? (the `temp_max` variable)\n",
    "- How many unique stations exists in the data? (the `station` variable)\n",
    "\n",
    "Please use the suggested variable names to store the results."
   ]
  },
  {
   "cell_type": "code",
   "execution_count": null,
   "metadata": {
    "deletable": false,
    "nbgrader": {
     "checksum": "23255f91f9509ac5f62355e3a36bb35b",
     "grade": false,
     "grade_id": "basic_statistics",
     "locked": false,
     "schema_version": 1,
     "solution": true
    }
   },
   "outputs": [],
   "source": [
    "# YOUR CODE HERE\n",
    "raise NotImplementedError()\n",
    "\n",
    "# Calculate mean temperature\n",
    "temp_mean =\n",
    "\n",
    "# Calculate standard deviaton of the maximum temperature:\n",
    "temp_max_std =\n",
    "\n",
    "#Calculate number of unique stations:\n",
    "station_count ="
   ]
  },
  {
   "cell_type": "markdown",
   "metadata": {},
   "source": [
    "Once you have defined the variables above, you can print the answers using these print statements (you don't need to change anything in the code block below!)"
   ]
  },
  {
   "cell_type": "code",
   "execution_count": null,
   "metadata": {
    "deletable": false,
    "editable": false,
    "nbgrader": {
     "checksum": "1b9157174b880501e2c255155012c004",
     "grade": true,
     "grade_id": "basic_statistics_test",
     "locked": true,
     "points": 1.5,
     "schema_version": 1,
     "solution": false
    }
   },
   "outputs": [],
   "source": [
    "print(\"Mean temperature in Fahrenheit is \", round(temp_mean,1))\n",
    "print(\"Sandard deviation of maximum temperature is \", round(temp_max_std, 1))\n",
    "print(\"The number of unique stations is \", station_count)\n"
   ]
  },
  {
   "cell_type": "markdown",
   "metadata": {
    "deletable": false,
    "editable": false,
    "nbgrader": {
     "checksum": "2694a91bafadbb296696ba6ceee60d05",
     "grade": false,
     "grade_id": "questions",
     "locked": true,
     "schema_version": 1,
     "solution": false
    }
   },
   "source": [
    "**Finalize your answer to problem 1** (1 point)\n",
    "- Check that your code includes informative comments explaining what your code does\n",
    "- Commit and push your changes to your GitHub repository for Exercise 5\n",
    "- Did you have any problems at this stage?"
   ]
  },
  {
   "cell_type": "markdown",
   "metadata": {
    "collapsed": true,
    "deletable": false,
    "nbgrader": {
     "checksum": "6881cdb962429f1664a6b82b73185c98",
     "grade": true,
     "grade_id": "questions_check",
     "locked": false,
     "points": 1,
     "schema_version": 1,
     "solution": true
    }
   },
   "source": [
    "YOUR ANSWER HERE"
   ]
  },
  {
   "cell_type": "markdown",
   "metadata": {},
   "source": [
    "Now you can continue to [Problem 2: Data manipulation and subsetting](Exercise-5-problem2.ipynb)\n",
    "\n",
    "\n"
   ]
  }
 ],
 "metadata": {
  "anaconda-cloud": {},
  "kernelspec": {
   "display_name": "Python 3",
   "language": "python",
   "name": "python3"
  },
  "language_info": {
   "codemirror_mode": {
    "name": "ipython",
    "version": 3
   },
   "file_extension": ".py",
   "mimetype": "text/x-python",
   "name": "python",
   "nbconvert_exporter": "python",
   "pygments_lexer": "ipython3",
   "version": "3.6.4"
  }
 },
 "nbformat": 4,
 "nbformat_minor": 2
}
