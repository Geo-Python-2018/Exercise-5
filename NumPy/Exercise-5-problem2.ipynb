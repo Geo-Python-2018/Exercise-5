{
 "cells": [
  {
   "cell_type": "markdown",
   "metadata": {},
   "source": [
    "## Problem 2a - Data manipulation (5 points)\n",
    "\n",
    "Similarly as in earlier exercises the temperatures in our data are represented in Fahrenheit, hence,\n",
    "you need to convert the temperatures into Celsius.\n",
    "\n",
    "\n",
    "First, read again  the data from '6153237444115dat.csv' into a varaible `data` and split it into individual column variables (you can copy your code from problem 1 here):"
   ]
  },
  {
   "cell_type": "code",
   "execution_count": null,
   "metadata": {
    "deletable": false,
    "nbgrader": {
     "checksum": "532af0b19580235625bc0331b8031491",
     "grade": false,
     "grade_id": "read_csv",
     "locked": false,
     "schema_version": 1,
     "solution": true
    }
   },
   "outputs": [],
   "source": [
    "# Import NumPy and read in data from csv\n",
    "\n",
    "# YOUR CODE HERE\n",
    "raise NotImplementedError()"
   ]
  },
  {
   "cell_type": "markdown",
   "metadata": {},
   "source": [
    "**Remove no data values** (2 points)\n",
    "\n",
    "In the codeblock below:\n",
    "\n",
    " - Create a new mask variable `tempmask` that is `True` for all finite temperature values, and `False` for `nan` values in the `temp` variable\n",
    " - Remove all rows from the column variables using the `tempmask` array"
   ]
  },
  {
   "cell_type": "code",
   "execution_count": null,
   "metadata": {
    "deletable": false,
    "nbgrader": {
     "checksum": "be792b8982d5572e99dfe08710a21ccf",
     "grade": false,
     "grade_id": "dataframe_subset",
     "locked": false,
     "schema_version": 1,
     "solution": true
    }
   },
   "outputs": [],
   "source": [
    "\n",
    "# YOUR CODE HERE\n",
    "raise NotImplementedError()\n"
   ]
  },
  {
   "cell_type": "code",
   "execution_count": null,
   "metadata": {
    "deletable": false,
    "editable": false,
    "nbgrader": {
     "checksum": "063362e2915cbe9717a610c67ab108d3",
     "grade": true,
     "grade_id": "dataframe_subset_test",
     "locked": true,
     "points": 2,
     "schema_version": 1,
     "solution": false
    }
   },
   "outputs": [],
   "source": [
    "# Check your data (for example using the len() function)\n",
    "\n"
   ]
  },
  {
   "cell_type": "markdown",
   "metadata": {},
   "source": [
    "**Convert Fahrenheit to Celsius** (2 points)\n",
    "\n",
    "- Create a new array variable `celsius` that converts `temp` to Celsius using the conversion formula (below)\n",
    " ![formula](../img/Fahrenheit_to_Celsius_formula.PNG)\n",
    " - Round the values in the `celsius` array to have 0 decimals (**don't** create a new variable --> update the current one)\n",
    " - Convert the `celsius` array values into integers (**don't** create a new variable --> update the current one)"
   ]
  },
  {
   "cell_type": "code",
   "execution_count": null,
   "metadata": {
    "deletable": false,
    "nbgrader": {
     "checksum": "e13446a688dbf9011268d419dfe32f9a",
     "grade": false,
     "grade_id": "temperature_calculation",
     "locked": false,
     "schema_version": 1,
     "solution": true
    }
   },
   "outputs": [],
   "source": [
    "# YOUR CODE HERE\n",
    "raise NotImplementedError()"
   ]
  },
  {
   "cell_type": "code",
   "execution_count": null,
   "metadata": {
    "deletable": false,
    "editable": false,
    "nbgrader": {
     "checksum": "56bdf751b55eaaac94b954b7cf5765fd",
     "grade": true,
     "grade_id": "temperature_calculation_test",
     "locked": true,
     "points": 2,
     "schema_version": 1,
     "solution": false
    }
   },
   "outputs": [],
   "source": [
    "# Check your data\n",
    "print(temp[:6])\n",
    "print(celsius[:6])\n"
   ]
  },
  {
   "cell_type": "markdown",
   "metadata": {
    "deletable": false,
    "editable": false,
    "nbgrader": {
     "checksum": "423bab516ac33ff6950daf750ba455c7",
     "grade": false,
     "grade_id": "cell-a63fda07b93db87f",
     "locked": true,
     "schema_version": 1,
     "solution": false
    }
   },
   "source": [
    "**Finalize your submission for Problem 2a** (1 point)\n",
    "- Check that you have commented your code (add inline comments explaining what your code does)\n",
    "- At this point, commit and push your changes to GitHub\n",
    "- Was anything unclear to you until this point? Write your comments to the cell below."
   ]
  },
  {
   "cell_type": "markdown",
   "metadata": {
    "deletable": false,
    "nbgrader": {
     "checksum": "31479cd23e51ec84156b569f6ef22a4b",
     "grade": true,
     "grade_id": "comments",
     "locked": false,
     "points": 1,
     "schema_version": 1,
     "solution": true
    }
   },
   "source": [
    "YOUR ANSWER HERE"
   ]
  },
  {
   "cell_type": "markdown",
   "metadata": {
    "collapsed": true
   },
   "source": [
    "\n",
    "## Problem 2b - Data selection (5 points)\n",
    "\n",
    "In this problem you should divide the data into separate subsets for different stations and save those arrays into csv files.\n",
    "\n",
    "**Divide the data into two separate datasets:** (2 points)\n",
    "  - Select all rows from the data arrays into variable called `kumpula` where the `station` value is `29980` using an array mask called `kmask`\n",
    "  - Select all rows from the data arrays into variable called `rovaniemi` where the `station` value is `28450` using an array mask called `rmask`\n",
    "  \n",
    "Please use the given variable names and write your answer to the codeblock below."
   ]
  },
  {
   "cell_type": "code",
   "execution_count": null,
   "metadata": {
    "deletable": false,
    "nbgrader": {
     "checksum": "67e5f4d4848e1cce9f24377fd953f103",
     "grade": false,
     "grade_id": "subsets",
     "locked": false,
     "schema_version": 1,
     "solution": true
    }
   },
   "outputs": [],
   "source": [
    "# YOUR CODE HERE\n",
    "raise NotImplementedError()"
   ]
  },
  {
   "cell_type": "code",
   "execution_count": null,
   "metadata": {
    "deletable": false,
    "editable": false,
    "nbgrader": {
     "checksum": "153cf831c58f05057dc856ddddb607c6",
     "grade": true,
     "grade_id": "subsets_test",
     "locked": true,
     "points": 2,
     "schema_version": 1,
     "solution": false
    }
   },
   "outputs": [],
   "source": [
    "# Check the data (you don't need to modify this cell)\n",
    "print(\"Kumpula: \\n\", kumpula[:5,:], \"\\n\")\n",
    "print(\"Rovaniemi: \\n\", rovaniemi[:5,:], \"\\n\")\n"
   ]
  },
  {
   "cell_type": "markdown",
   "metadata": {},
   "source": [
    "**Save the new arrays to csv files** (2 points)\n",
    "\n",
    "- Save the `kumpula` array into a file called `Kumpula_temps_May_Aug_2017.csv` (CSV format) \n",
    "   - Separate the columns with a comma (`,`)\n",
    "   - Use only 2 decimals in the floating point numbers\n",
    "- Save the `rovaniemi` array into a file called `Rovaniemi_temps_May_Aug_2017.csv` (CSV format) \n",
    "   - Separate the columns with comma (`,`)\n",
    "   - Use only 2 decimals in the floating point numbers"
   ]
  },
  {
   "cell_type": "code",
   "execution_count": null,
   "metadata": {
    "deletable": false,
    "nbgrader": {
     "checksum": "c3f5a426f626ebbe3371f1771702f54f",
     "grade": true,
     "grade_id": "to_csv",
     "locked": false,
     "points": 2,
     "schema_version": 1,
     "solution": true
    }
   },
   "outputs": [],
   "source": [
    "# YOUR CODE HERE\n",
    "raise NotImplementedError()"
   ]
  },
  {
   "cell_type": "code",
   "execution_count": null,
   "metadata": {
    "deletable": false,
    "editable": false,
    "nbgrader": {
     "checksum": "e17856f48590694e60c5a062246d4739",
     "grade": true,
     "grade_id": "to_csv_test",
     "locked": true,
     "points": 0,
     "schema_version": 1,
     "solution": false
    }
   },
   "outputs": [],
   "source": []
  },
  {
   "cell_type": "markdown",
   "metadata": {
    "deletable": false,
    "editable": false,
    "nbgrader": {
     "checksum": "e322f6406b46b37c3504f90f127d6d72",
     "grade": false,
     "grade_id": "cell-3d8b5609d0cea2a9",
     "locked": true,
     "schema_version": 1,
     "solution": false
    }
   },
   "source": [
    "**Commit and push changes (including the 2 csv files!) into your GitHub repository for Exercise 5** (1 point)\n",
    "\n",
    "Did you encounter any problems with decimal formatting?"
   ]
  },
  {
   "cell_type": "markdown",
   "metadata": {
    "deletable": false,
    "nbgrader": {
     "checksum": "09b04052fd8c27c1c62c2a515ccda2d4",
     "grade": true,
     "grade_id": "upload_csv_files",
     "locked": false,
     "points": 1,
     "schema_version": 1,
     "solution": true
    }
   },
   "source": [
    "YOUR ANSWER HERE"
   ]
  },
  {
   "cell_type": "markdown",
   "metadata": {
    "collapsed": true
   },
   "source": [
    "Now you can continue to [problem 3: Data analysis](Exercise-5-problem3.ipynb)"
   ]
  }
 ],
 "metadata": {
  "anaconda-cloud": {},
  "kernelspec": {
   "display_name": "Python 3",
   "language": "python",
   "name": "python3"
  },
  "language_info": {
   "codemirror_mode": {
    "name": "ipython",
    "version": 3
   },
   "file_extension": ".py",
   "mimetype": "text/x-python",
   "name": "python",
   "nbconvert_exporter": "python",
   "pygments_lexer": "ipython3",
   "version": "3.6.4"
  }
 },
 "nbformat": 4,
 "nbformat_minor": 2
}
